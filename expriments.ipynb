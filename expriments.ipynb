{
 "cells": [
  {
   "cell_type": "code",
   "execution_count": 63,
   "metadata": {
    "collapsed": true
   },
   "outputs": [],
   "source": [
    "# from mshr\n",
    "\n",
    "from __future__ import print_function\n",
    "from fenics import BoxMesh, Point, DirichletBC, FacetNormal, RectangleMesh\n",
    "from fenics import FunctionSpace, VectorFunctionSpace\n",
    "from fenics import TrialFunction, TestFunction\n",
    "from fenics import Expression, Function, Constant\n",
    "from fenics import dot, inner, Identity, sym\n",
    "from fenics import grad, nabla_grad, tr\n",
    "from ufl import nabla_div\n",
    "from fenics import sqrt\n",
    "from fenics import project\n",
    "from fenics import dx, ds\n",
    "from fenics import dX, dS\n",
    "from fenics import solve, interpolate\n",
    "from fenics import plot\n",
    "from fenics import File\n",
    "from fenics import lhs, rhs, assemble\n",
    "from fenics import Mesh, UnitSquareMesh\n",
    "from dolfin import near, SubDomain\n",
    "from fenics import MeshFunction\n",
    "from fenics import Measure\n",
    "from ufl import Coefficient, Coefficients\n",
    "# from dolfin import MeshFunction\n",
    "from dolfin import info\n",
    "# import dolfin\n"
   ]
  },
  {
   "cell_type": "code",
   "execution_count": 63,
   "outputs": [],
   "source": [],
   "metadata": {
    "collapsed": false
   }
  },
  {
   "cell_type": "code",
   "execution_count": 64,
   "outputs": [],
   "source": [
    "import matplotlib.pyplot as plt\n",
    "%matplotlib inline"
   ],
   "metadata": {
    "collapsed": false
   }
  },
  {
   "cell_type": "code",
   "execution_count": 65,
   "outputs": [],
   "source": [
    "line = './results/v0/'\n"
   ],
   "metadata": {
    "collapsed": false
   }
  },
  {
   "cell_type": "code",
   "execution_count": 66,
   "outputs": [],
   "source": [
    "save = 1\n"
   ],
   "metadata": {
    "collapsed": false
   }
  },
  {
   "cell_type": "code",
   "execution_count": 67,
   "outputs": [],
   "source": [
    "mu1 = Constant(0.8e11)\n",
    "mu2 = Constant(0.5e11)\n",
    "lambda1 = Constant(1.25e11)\n",
    "lambda2 = Constant(0.65e11)\n",
    "k1 = Constant(200.)\n",
    "k2 = Constant(100.)\n",
    "beta1 = Constant(6.0e-6)\n",
    "beta2 = Constant(3.0e-6)\n",
    "alphaAir = Constant(50.)\n",
    "TAir = Constant(300.)\n",
    "THot = Constant(450.)\n",
    "T0 = Constant(320.)\n",
    "\n",
    "# TAir = Constant(20.)\n",
    "# THot = Constant(150.)\n",
    "# T0 = Constant(40.)\n",
    "\n",
    "# Finite element order\n",
    "eo = 1\n",
    "\n",
    "polynom = 'CG'"
   ],
   "metadata": {
    "collapsed": false
   }
  },
  {
   "cell_type": "code",
   "execution_count": 68,
   "outputs": [
    {
     "data": {
      "text/plain": "array([450.])"
     },
     "execution_count": 68,
     "metadata": {},
     "output_type": "execute_result"
    }
   ],
   "source": [
    "THot.values()"
   ],
   "metadata": {
    "collapsed": false
   }
  },
  {
   "cell_type": "code",
   "execution_count": 69,
   "outputs": [
    {
     "name": "stdout",
     "output_type": "stream",
     "text": [
      "Domain size: 0.02 [m] x 0.01 [m] y 0.012 [m] z\n"
     ]
    }
   ],
   "source": [
    "# Material settings\n",
    "rho = 7800  # [kg/m3] density\n",
    "# k = 50  # [W/(m*K)] thermal conductivity\n",
    "Cp = 525  # [J/(kg*K)] heat capacity\n",
    "E = 2.0e011  # [Pa] Young modulus\n",
    "nu = 0.3  # Poisson coefficient\n",
    "lambda_ = (nu * E) / ((1 + nu) * (1 - 2 * nu))  # Lamé's first parameter\n",
    "mu = E / (2 * (1 + nu))  # Lamé's second parameter\n",
    "# alpha = 2.0e-05  # [1/K] thermal expansion coefficient\n",
    "\n",
    "\n",
    "\n",
    "#coefficient of slope\n",
    "c1 = 100_000\n",
    "# coordinate \"y\", where is characteristics change\n",
    "c2 = 0.002\n",
    "# \"stairs\" function\n",
    "# phi_ = '1/(1+exp(-c1 * (x[1] - c2)))'\n",
    "# phi =  Expression(phi_,  c1 = c1, c2 = c2, degree=eo)\n",
    "\n",
    "# 1 - bottom thin layer\n",
    "# 2 - top layer\n",
    "\n",
    "lambda1 = 1.25e11\n",
    "lambda2 = 0.65e11\n",
    "# lambda_ = lambda2 * phi + lambda1 * (1-phi)\n",
    "lambda_ = Expression(\"x[2] > 0.002 ? lambda1 : lambda2\", lambda1= lambda1, lambda2 = lambda2, degree=eo)\n",
    "# cc = Expression(\"x[0] > 0.5 and x[1] > 0.5 ? c : 1\", c = c, degree=p+2)\n",
    "\n",
    "\n",
    "mu1 = 0.8e11\n",
    "mu2 =0.5e11\n",
    "# mu = mu2 * phi + mu1 * (1-phi)\n",
    "mu = Expression(\"x[2] > 0.002 ? mu1 : mu2\", mu1= mu1, mu2 = mu2, degree=eo)\n",
    "\n",
    "\n",
    "beta1 = 6.0e-06\n",
    "beta2 = 3.0e-06\n",
    "# alpha = beta2 * phi + beta1 * (1-phi)\n",
    "alpha = Expression(\"x[2] > 0.002 ? beta1 : beta2\", beta1= beta1, beta2 = beta2, degree=eo)\n",
    "\n",
    "\n",
    "k1 = 200  # [W/(m*K)] thermal conductivity on bottom layer\n",
    "k2 = 100  # [W/(m*K)] thermal conductivity on top layer\n",
    "\n",
    "# k = k2 * phi + k1 * (1-phi)\n",
    "k = Expression(\"x[2] > 0.002 ? k1 : k2\", k1= k1, k2 = k2, degree=eo)\n",
    "\n",
    "\n",
    "# Domain settings\n",
    "L_x = 0.02  # [m] domain width (x, z)\n",
    "L_z = 0.012  # [m] domain height\n",
    "L_y = 0.01  # [m] domain depth\n",
    "resW = 50  # mesh resolution (x, z)-directions (number of points)\n",
    "resH = 50  # mesh y-resolution\n",
    "resD = resW\n",
    "\n",
    "print('Domain size:', L_x, '[m] x', L_y, '[m] y', L_z, '[m] z')\n",
    "\n",
    "# Finite element order\n",
    "# eo = 1"
   ],
   "metadata": {
    "collapsed": false
   }
  },
  {
   "cell_type": "code",
   "execution_count": 70,
   "outputs": [],
   "source": [
    "text = str(fr\"polynom = {polynom}  eo = {eo} THOt = {THot.values()}\")\n",
    "if save:\n",
    "    print(text.encode('utf-8'),file=open(f\"{line}par.txt\",'w'))"
   ],
   "metadata": {
    "collapsed": false
   }
  },
  {
   "cell_type": "code",
   "execution_count": 71,
   "outputs": [],
   "source": [
    "# mesh = Mesh('./mesh/v0/CURRENT/composite_simplified.xml')\n",
    "mesh = Mesh('./composite_fenics/composite.xml')\n",
    "fd = MeshFunction('size_t', mesh, './composite_fenics/composite_facet_region.xml')\n",
    "pd = MeshFunction('size_t', mesh, './composite_fenics/composite_physical_region.xml')\n",
    "\n",
    "# mesh = Mesh('./mesh/classic_meshing/v1/composite_fenics/composite.xml')\n",
    "# mesh = Mesh('./mesh/composite.xml')\n",
    "# mesh = UnitSquareMesh(32,32,L_x,L_y, 'left/right')\n",
    "# mesh = RectangleMesh(Point(0.0, 0.0), Point(L_x, L_y), resW, resH,'left/right')\n",
    "# mesh = RectangleMesh(Point(0.0, 0.0), Point(L_x, L_y), resW, resH,'left/right')\n"
   ],
   "metadata": {
    "collapsed": false
   }
  },
  {
   "cell_type": "markdown",
   "source": [],
   "metadata": {
    "collapsed": false
   }
  },
  {
   "cell_type": "code",
   "execution_count": 72,
   "outputs": [],
   "source": [
    "# plot(mesh)\n",
    "# plt.xlabel('X')\n",
    "# plt.ylabel('Y')\n",
    "# plt.show()\n",
    "# if save:\n",
    "#     plt.savefig(f'{line}mesh_mshr.png')\n",
    "#     plt.savefig(f'{line}mesh_mshr.svg')"
   ],
   "metadata": {
    "collapsed": false
   }
  },
  {
   "cell_type": "code",
   "execution_count": 73,
   "outputs": [],
   "source": [
    "# Create functional space\n",
    "F = FunctionSpace(mesh, polynom, eo)  # piecewise linear polynomials\n",
    "V = VectorFunctionSpace(mesh, polynom, eo)\n",
    "\n",
    "# Create 'trial function' (the unknown function to be approximated) over the space F\n",
    "tem = TrialFunction(F)  # scalar temperature field, such that: tem(x,y) = Sum(tem_i* w(x,y))\n",
    "d1 = tem.geometric_dimension()  # space dimension\n",
    "u = TrialFunction(V)  # vector displacement field\n",
    "d2 = u.geometric_dimension()  # space dimension\n"
   ],
   "metadata": {
    "collapsed": false
   }
  },
  {
   "cell_type": "code",
   "execution_count": 73,
   "outputs": [],
   "source": [],
   "metadata": {
    "collapsed": false
   }
  },
  {
   "cell_type": "code",
   "execution_count": 74,
   "outputs": [],
   "source": [
    "# Create scalar 'test function' (or 'shape function', or 'weighting function') over the space F\n",
    "q = TestFunction(F)  # q -> tem\n",
    "v = TestFunction(V)  # v -> u\n",
    "\n",
    "t = 0\n",
    "# Define expressions used in variational forms to prevent repeated code generation\n",
    "n = FacetNormal(mesh)  # per-face normal vector\n",
    "# k_ = (k / (rho * Cp))  # thermal conductivity\n",
    "k_ = k  # thermal conductivity\n",
    "Traction = Constant((0, 0))  # traction\n"
   ],
   "metadata": {
    "collapsed": false
   }
  },
  {
   "cell_type": "code",
   "execution_count": 75,
   "outputs": [],
   "source": [
    "# tem_surf = '(300 + ' \\\n",
    "#           '500 * exp(-pow( (t-5)/dt, 2)) * ' \\\n",
    "#          '( (( pow((x[0] - L_x/2)/r, 2) + pow((x[2] - L_z/2)/r, 2) ) <= 1.0) ? 1.0 : 0.0))'\n",
    "tem_surf = '(THot * (x[1] == L_y))'\n",
    "# tem_surf = '(40)'\n",
    "tem_desired = Expression(tem_surf, L_y=L_y, THot = THot, degree=eo)\n",
    "# fact_ = Constant(1.0e8)"
   ],
   "metadata": {
    "collapsed": false
   }
  },
  {
   "cell_type": "code",
   "execution_count": 76,
   "outputs": [],
   "source": [
    "\n",
    "# Problem settings\n",
    "tem_0 = T0  # [K] initial temperature\n",
    "tem_ref = TAir  # [K] reference temperature\n"
   ],
   "metadata": {
    "collapsed": false
   }
  },
  {
   "cell_type": "code",
   "execution_count": 77,
   "outputs": [],
   "source": [
    "# Define strains and stress\n",
    "def epsilon(u):\n",
    "    return 0.5 * (nabla_grad(u) + nabla_grad(u).T)\n",
    "    # return sym(nabla_grad(u))\n",
    "\n",
    "\n",
    "def epsilon_therm(tem):\n",
    "    return alpha * (tem - tem_ref) * Identity(d1)\n",
    "\n",
    "\n",
    "def sigma(u):\n",
    "    return lambda_ * nabla_div(u) * Identity(d2) + 2 * mu * epsilon(u) \\\n",
    "        - (3 * lambda_ + 2 * mu) * epsilon_therm(tem)\n",
    "\n",
    "\n",
    "# Compute boundary surfaces of the mesh (via C++ wrapper)\n",
    "\n",
    "tol = 1E-14\n",
    "\n",
    "\n",
    "# https://fenicsproject.org/olL_zocs/dolfin/1.3.0/python/demo/documented/subdomains-poisson/python/documentation.html\n",
    "class Bottom(SubDomain):\n",
    "    def inside(self, x, on_boundary):\n",
    "        return near(x[2], 0.0)\n",
    "\n",
    "\n",
    "class Top(SubDomain):\n",
    "    def inside(self, x, on_boundary):\n",
    "        return near(x[2], L_z)\n"
   ],
   "metadata": {
    "collapsed": false
   }
  },
  {
   "cell_type": "code",
   "execution_count": 77,
   "outputs": [],
   "source": [],
   "metadata": {
    "collapsed": false
   }
  },
  {
   "cell_type": "code",
   "execution_count": 78,
   "outputs": [],
   "source": [
    "\n",
    "# bottom surfcae\n",
    "# bs_bottom_wall = 'near(x[1], 0.0)'\n",
    "# bs_bottom_wall = near(x[1],0.0)\n",
    "bs_bottom_wall = Bottom()\n",
    "# bs_top_wall = 'near(x[1],L_y)'\n",
    "# bs_top_wall = near(x[1],L_y)\n",
    "bs_top_wall = Top()\n",
    "\n",
    "# bs_top_edges = [Point(0.0, L_y), Point(L_x, L_y)]\n",
    "\n",
    "\n",
    "# bs_top_edges = Point(0.0, L_y)\n",
    "\n",
    "def left_top_fixed_point(x, on_boundary):\n",
    "    tol = 1E-15\n",
    "    return (near(x[0], 0.0) and near(x[1],0.0) and near(x[2],L_z))\n",
    "\n",
    "# def left_top_fixed_point(x, on_boundary):\n",
    "#     tol = 1E-15\n",
    "#     return Point(0.0, L_y)\n",
    "\n",
    "\n",
    "def right_top_fixed_point(x, on_boundary):\n",
    "    tol = 1E-15\n",
    "    return (near(x[0], L_x) and near(x[1],0.0) and near(x[2],L_z))\n"
   ],
   "metadata": {
    "collapsed": false
   }
  },
  {
   "cell_type": "code",
   "execution_count": 79,
   "outputs": [],
   "source": [
    "dx = Measure('dx', domain=mesh, subdomain_data=pd)\n"
   ],
   "metadata": {
    "collapsed": false
   }
  },
  {
   "cell_type": "code",
   "execution_count": 80,
   "outputs": [],
   "source": [
    "\n",
    "# BC at the bottom\n",
    "# bc_tem_bottom = DirichletBC(F, TAir, bs_bottom_wall)\n",
    "# bc_tem_top = DirichletBC(F, THot, bs_top_wall)\n",
    "\n",
    "bc_tem_bottom = DirichletBC(F, THot, fd,27)\n",
    "bc_tem_top = DirichletBC(F, TAir, fd,26)\n",
    "\n",
    "\n",
    "\n",
    "#\n",
    "\n",
    "# bcs_tem = [bc_tem_bottom]\n",
    "bcs_tem = [bc_tem_bottom, bc_tem_top]\n",
    "# bc_u_bottom = DirichletBC(V.sub(0), Constant((0,0)), bs_top_edges)\n",
    "#\n",
    "# bc_top_fixed_point1 = DirichletBC(V.sub(0), Constant(0), right_top_fixed_point, method='pointwise')\n",
    "rt_y_fixed_point = DirichletBC(V.sub(1), Constant(0), right_top_fixed_point, method='pointwise')\n",
    "rt_y_fixed_point = DirichletBC(V.sub(2), Constant(0), right_top_fixed_point, method='pointwise')\n",
    "\n",
    "lt_x_fixed_point = DirichletBC(V.sub(0), Constant(0), left_top_fixed_point, method='pointwise')\n",
    "lt_y_fixed_point = DirichletBC(V.sub(1), Constant(0), left_top_fixed_point, method='pointwise')\n",
    "lt_y_fixed_point = DirichletBC(V.sub(2), Constant(0), left_top_fixed_point, method='pointwise')\n",
    "#\n",
    "# bcs_u = [bc_lower_fixed_point1,bc_lower_fixed_point2, bc_top_fixed_point1,bc_top_fixed_point2]\n",
    "bcs_u = [lt_x_fixed_point, lt_y_fixed_point, rt_y_fixed_point]\n",
    "# bcs_u = [bc_u_bottom]"
   ],
   "metadata": {
    "collapsed": false
   }
  },
  {
   "cell_type": "code",
   "execution_count": 81,
   "outputs": [],
   "source": [
    "# Compose weak form of PDE(heat):\n",
    "tem_0 = Expression('T0', degree=eo, T0 = T0)\n",
    "tem_n = project(tem_0, F, solver_type=\"cg\", preconditioner_type=\"amg\")\n",
    "tem = TrialFunction(F)\n",
    "q = TestFunction(F)"
   ],
   "metadata": {
    "collapsed": false
   }
  },
  {
   "cell_type": "code",
   "execution_count": 81,
   "outputs": [],
   "source": [],
   "metadata": {
    "collapsed": false
   }
  },
  {
   "cell_type": "code",
   "execution_count": 82,
   "outputs": [
    {
     "data": {
      "text/plain": "Measure('interior_facet', subdomain_id='everywhere')"
     },
     "execution_count": 82,
     "metadata": {},
     "output_type": "execute_result"
    }
   ],
   "source": [
    "dS()"
   ],
   "metadata": {
    "collapsed": false
   }
  },
  {
   "cell_type": "code",
   "execution_count": 83,
   "outputs": [
    {
     "data": {
      "text/plain": "Measure('cell', subdomain_id=1, domain=Mesh(VectorElement(FiniteElement('Lagrange', tetrahedron, 1), dim=3), 186), subdomain_data=<dolfin.cpp.mesh.MeshFunctionSizet object at 0x7f05c5f1ef70>)"
     },
     "execution_count": 83,
     "metadata": {},
     "output_type": "execute_result"
    }
   ],
   "source": [
    "dx(1)"
   ],
   "metadata": {
    "collapsed": false
   }
  },
  {
   "cell_type": "code",
   "execution_count": 84,
   "outputs": [
    {
     "data": {
      "text/plain": "Measure('cell', subdomain_id=31, domain=Mesh(VectorElement(FiniteElement('Lagrange', tetrahedron, 1), dim=3), 186), subdomain_data=<dolfin.cpp.mesh.MeshFunctionSizet object at 0x7f05c5f1ef70>)"
     },
     "execution_count": 84,
     "metadata": {},
     "output_type": "execute_result"
    }
   ],
   "source": [
    "dx(31)"
   ],
   "metadata": {
    "collapsed": false
   }
  },
  {
   "cell_type": "code",
   "execution_count": 85,
   "outputs": [
    {
     "data": {
      "text/plain": "Measure('cell', subdomain_id='everywhere', domain=Mesh(VectorElement(FiniteElement('Lagrange', tetrahedron, 1), dim=3), 186), subdomain_data=<dolfin.cpp.mesh.MeshFunctionSizet object at 0x7f05c5f1ef70>)"
     },
     "execution_count": 85,
     "metadata": {},
     "output_type": "execute_result"
    }
   ],
   "source": [
    "dx"
   ],
   "metadata": {
    "collapsed": false
   }
  },
  {
   "cell_type": "code",
   "execution_count": 86,
   "outputs": [
    {
     "data": {
      "text/plain": "<ufl.measure.MeasureSum at 0x7f05cfae5810>"
     },
     "execution_count": 86,
     "metadata": {},
     "output_type": "execute_result"
    }
   ],
   "source": [
    "dX"
   ],
   "metadata": {
    "collapsed": false
   }
  },
  {
   "cell_type": "code",
   "execution_count": 86,
   "outputs": [],
   "source": [],
   "metadata": {
    "collapsed": false
   }
  },
  {
   "cell_type": "code",
   "execution_count": 87,
   "outputs": [],
   "source": [
    "# fact_ = Constant(0.01)\n",
    "# eq_tem = (k_ * inner(nabla_grad(tem), nabla_grad(q)) * dX + (tem_desired - tem) * fact_ * q * dX)\n",
    "# eq_tem = (k_ * inner(nabla_grad(tem), nabla_grad(q)) * dX + alphaAir * (tem - TAir) * q * dX)\n",
    "eq_tem = (k_ * inner(grad(tem), grad(q)) * dx )\n",
    "# eq_tem = k1 * inner(grad(tem), grad(q)) * dx(31) + k2 * inner(grad(tem), grad(q)) * dx(32)\n",
    "a_therm = lhs(eq_tem)\n",
    "L_therm = rhs(eq_tem)\n"
   ],
   "metadata": {
    "collapsed": false
   }
  },
  {
   "cell_type": "code",
   "execution_count": 87,
   "outputs": [],
   "source": [],
   "metadata": {
    "collapsed": false
   }
  },
  {
   "cell_type": "code",
   "execution_count": 88,
   "outputs": [],
   "source": [
    "# Compose weak form of PDE(elasticity):\n",
    "# Split the equation into right-hand-side (RHS) and left-hand-side (LHS) parts:\n",
    "u = TrialFunction(V)\n",
    "v = TestFunction(V)\n",
    "sigma_ = lambda_ * nabla_div(u) * Identity(d2) + mu * (nabla_grad(u) + nabla_grad(u).T) \\\n",
    "         - (3 * lambda_ + 2 * mu) * alpha * (tem_n - tem_ref) * Identity(d1)\n",
    "epsilon_ = 0.5 * (nabla_grad(v) + nabla_grad(v).T)\n",
    "elastic_eqn = inner(sigma_, epsilon_) * dx\n",
    "# LHS, bilinear form\n",
    "a_elas = lhs(elastic_eqn)\n",
    "# RHS, Linear form\n",
    "L_elas = rhs(elastic_eqn)\n"
   ],
   "metadata": {
    "collapsed": false
   }
  },
  {
   "cell_type": "code",
   "execution_count": 89,
   "outputs": [],
   "source": [
    "if save:\n",
    "    # Prepare export to file\n",
    "    path = line\n",
    "    tem_file = File(f'{path}tem.pvd')\n",
    "    u_file = File(f'{path}u.pvd')\n",
    "    vms_file = File(f'{path}vms.pvd')"
   ],
   "metadata": {
    "collapsed": false
   }
  },
  {
   "cell_type": "code",
   "execution_count": 90,
   "outputs": [
    {
     "name": "stdout",
     "output_type": "stream",
     "text": [
      "DOFs = 991624\n"
     ]
    }
   ],
   "source": [
    "# Time loop\n",
    "tem = Function(F)\n",
    "u = Function(V)\n",
    "\n",
    "print(f'DOFs = {V.dim() + F.dim()}')\n"
   ],
   "metadata": {
    "collapsed": false
   }
  },
  {
   "cell_type": "code",
   "execution_count": 91,
   "outputs": [
    {
     "name": "stdout",
     "output_type": "stream",
     "text": [
      "    Solving linear variational problem.\n"
     ]
    }
   ],
   "source": [
    "# Update time value in expression\n",
    "# tem_desired.t = t\n",
    "\n",
    "sol_settings = {'linear_solver': 'mumps'}\n",
    "\n",
    "# Compute HCE\n",
    "solve(a_therm == L_therm, tem, bcs_tem, solver_parameters=sol_settings)"
   ],
   "metadata": {
    "collapsed": false
   }
  },
  {
   "cell_type": "code",
   "execution_count": 92,
   "outputs": [
    {
     "name": "stdout",
     "output_type": "stream",
     "text": [
      "    Solving linear variational problem.\n"
     ]
    },
    {
     "ename": "RuntimeError",
     "evalue": "\n\n*** -------------------------------------------------------------------------\n*** DOLFIN encountered an error. If you are not able to resolve this issue\n*** using the information listed below, you can ask for help at\n***\n***     fenics-support@googlegroups.com\n***\n*** Remember to include the error message listed below and, if possible,\n*** include a *minimal* running example to reproduce the error.\n***\n*** -------------------------------------------------------------------------\n*** Error:   Unable to solve linear system using PETSc Krylov solver.\n*** Reason:  Solution failed to converge in 0 iterations (PETSc reason DIVERGED_PC_FAILED, residual norm ||r|| = 0.000000e+00).\n*** Where:   This error was encountered inside PETScKrylovSolver.cpp.\n*** Process: 0\n*** \n*** DOLFIN version: 2019.1.0\n*** Git changeset:  ba376b6aebd7a9bc089be46b50bdd9f5c548fb91\n*** -------------------------------------------------------------------------\n",
     "output_type": "error",
     "traceback": [
      "\u001B[0;31m---------------------------------------------------------------------------\u001B[0m",
      "\u001B[0;31mRuntimeError\u001B[0m                              Traceback (most recent call last)",
      "Cell \u001B[0;32mIn[92], line 5\u001B[0m\n\u001B[1;32m      2\u001B[0m tem_n\u001B[38;5;241m.\u001B[39massign(tem)\n\u001B[1;32m      4\u001B[0m \u001B[38;5;66;03m# Compute elasticity\u001B[39;00m\n\u001B[0;32m----> 5\u001B[0m \u001B[43msolve\u001B[49m\u001B[43m(\u001B[49m\u001B[43ma_elas\u001B[49m\u001B[43m \u001B[49m\u001B[38;5;241;43m==\u001B[39;49m\u001B[43m \u001B[49m\u001B[43mL_elas\u001B[49m\u001B[43m,\u001B[49m\u001B[43m \u001B[49m\u001B[43mu\u001B[49m\u001B[43m,\u001B[49m\u001B[43m \u001B[49m\u001B[43mbcs_u\u001B[49m\u001B[43m,\u001B[49m\u001B[43m \u001B[49m\u001B[43msolver_parameters\u001B[49m\u001B[38;5;241;43m=\u001B[39;49m\u001B[43msol_settings\u001B[49m\u001B[43m)\u001B[49m\n",
      "File \u001B[0;32m~/miniconda3/lib/python3.10/site-packages/dolfin/fem/solving.py:220\u001B[0m, in \u001B[0;36msolve\u001B[0;34m(*args, **kwargs)\u001B[0m\n\u001B[1;32m    217\u001B[0m \u001B[38;5;66;03m# Call variational problem solver if we get an equation (but not a\u001B[39;00m\n\u001B[1;32m    218\u001B[0m \u001B[38;5;66;03m# tolerance)\u001B[39;00m\n\u001B[1;32m    219\u001B[0m \u001B[38;5;28;01melif\u001B[39;00m \u001B[38;5;28misinstance\u001B[39m(args[\u001B[38;5;241m0\u001B[39m], ufl\u001B[38;5;241m.\u001B[39mclasses\u001B[38;5;241m.\u001B[39mEquation):\n\u001B[0;32m--> 220\u001B[0m     \u001B[43m_solve_varproblem\u001B[49m\u001B[43m(\u001B[49m\u001B[38;5;241;43m*\u001B[39;49m\u001B[43margs\u001B[49m\u001B[43m,\u001B[49m\u001B[43m \u001B[49m\u001B[38;5;241;43m*\u001B[39;49m\u001B[38;5;241;43m*\u001B[39;49m\u001B[43mkwargs\u001B[49m\u001B[43m)\u001B[49m\n\u001B[1;32m    222\u001B[0m \u001B[38;5;66;03m# Default case, just call the wrapped C++ solve function\u001B[39;00m\n\u001B[1;32m    223\u001B[0m \u001B[38;5;28;01melse\u001B[39;00m:\n\u001B[1;32m    224\u001B[0m     \u001B[38;5;28;01mif\u001B[39;00m kwargs:\n",
      "File \u001B[0;32m~/miniconda3/lib/python3.10/site-packages/dolfin/fem/solving.py:247\u001B[0m, in \u001B[0;36m_solve_varproblem\u001B[0;34m(*args, **kwargs)\u001B[0m\n\u001B[1;32m    245\u001B[0m     solver \u001B[38;5;241m=\u001B[39m LinearVariationalSolver(problem)\n\u001B[1;32m    246\u001B[0m     solver\u001B[38;5;241m.\u001B[39mparameters\u001B[38;5;241m.\u001B[39mupdate(solver_parameters)\n\u001B[0;32m--> 247\u001B[0m     \u001B[43msolver\u001B[49m\u001B[38;5;241;43m.\u001B[39;49m\u001B[43msolve\u001B[49m\u001B[43m(\u001B[49m\u001B[43m)\u001B[49m\n\u001B[1;32m    249\u001B[0m \u001B[38;5;66;03m# Solve nonlinear variational problem\u001B[39;00m\n\u001B[1;32m    250\u001B[0m \u001B[38;5;28;01melse\u001B[39;00m:\n\u001B[1;32m    251\u001B[0m \n\u001B[1;32m    252\u001B[0m     \u001B[38;5;66;03m# Create Jacobian if missing\u001B[39;00m\n\u001B[1;32m    253\u001B[0m     \u001B[38;5;28;01mif\u001B[39;00m J \u001B[38;5;129;01mis\u001B[39;00m \u001B[38;5;28;01mNone\u001B[39;00m:\n",
      "\u001B[0;31mRuntimeError\u001B[0m: \n\n*** -------------------------------------------------------------------------\n*** DOLFIN encountered an error. If you are not able to resolve this issue\n*** using the information listed below, you can ask for help at\n***\n***     fenics-support@googlegroups.com\n***\n*** Remember to include the error message listed below and, if possible,\n*** include a *minimal* running example to reproduce the error.\n***\n*** -------------------------------------------------------------------------\n*** Error:   Unable to solve linear system using PETSc Krylov solver.\n*** Reason:  Solution failed to converge in 0 iterations (PETSc reason DIVERGED_PC_FAILED, residual norm ||r|| = 0.000000e+00).\n*** Where:   This error was encountered inside PETScKrylovSolver.cpp.\n*** Process: 0\n*** \n*** DOLFIN version: 2019.1.0\n*** Git changeset:  ba376b6aebd7a9bc089be46b50bdd9f5c548fb91\n*** -------------------------------------------------------------------------\n"
     ]
    }
   ],
   "source": [
    "\n",
    "# Update previous solution\n",
    "tem_n.assign(tem)\n",
    "\n",
    "# Compute elasticity\n",
    "solve(a_elas == L_elas, u, bcs_u, solver_parameters=sol_settings)\n"
   ],
   "metadata": {
    "collapsed": false
   }
  },
  {
   "cell_type": "code",
   "execution_count": null,
   "outputs": [],
   "source": [
    "# Compute stress\n",
    "s = sigma(u) - (1. / 3) * tr(sigma(u)) * Identity(d2)  # deviatoric stress\n",
    "von_Mises = sqrt(3. / 2 * inner(s, s))\n",
    "von_Mises = project(von_Mises, F)\n"
   ],
   "metadata": {
    "collapsed": false
   }
  },
  {
   "cell_type": "code",
   "execution_count": 93,
   "outputs": [
    {
     "name": "stdout",
     "output_type": "stream",
     "text": [
      "0\n"
     ]
    }
   ],
   "source": [
    "if save:\n",
    "    # Save solution\n",
    "    tem.rename('T [K]', 'label')\n",
    "    tem_file << (tem)\n",
    "    # u.rename('U [m]', 'label')\n",
    "    # u_file << (u)\n",
    "    # von_Mises.rename('VMS [Pa]', 'label')\n",
    "    # vms_file << (von_Mises)\n",
    "\n",
    "print(f'{t}')\n",
    "# print(f'{t} / {dt*num_steps}')\n"
   ],
   "metadata": {
    "collapsed": false
   }
  },
  {
   "cell_type": "code",
   "execution_count": 94,
   "outputs": [
    {
     "ename": "TypeError",
     "evalue": "gca() got an unexpected keyword argument 'projection'",
     "output_type": "error",
     "traceback": [
      "\u001B[0;31m---------------------------------------------------------------------------\u001B[0m",
      "\u001B[0;31mTypeError\u001B[0m                                 Traceback (most recent call last)",
      "Cell \u001B[0;32mIn[94], line 2\u001B[0m\n\u001B[1;32m      1\u001B[0m \u001B[38;5;28;01mfrom\u001B[39;00m \u001B[38;5;21;01mmatplotlib\u001B[39;00m \u001B[38;5;28;01mimport\u001B[39;00m cm\n\u001B[0;32m----> 2\u001B[0m fig \u001B[38;5;241m=\u001B[39m \u001B[43mplot\u001B[49m\u001B[43m(\u001B[49m\u001B[43mtem\u001B[49m\u001B[43m,\u001B[49m\u001B[43mmesh\u001B[49m\u001B[43m)\u001B[49m\n\u001B[1;32m      3\u001B[0m fig\u001B[38;5;241m.\u001B[39mset_cmap(cm\u001B[38;5;241m.\u001B[39mrainbow)\n\u001B[1;32m      4\u001B[0m plt\u001B[38;5;241m.\u001B[39mcolorbar(fig)\n",
      "File \u001B[0;32m~/miniconda3/lib/python3.10/site-packages/dolfin/common/plotting.py:438\u001B[0m, in \u001B[0;36mplot\u001B[0;34m(object, *args, **kwargs)\u001B[0m\n\u001B[1;32m    436\u001B[0m \u001B[38;5;66;03m# Plot\u001B[39;00m\n\u001B[1;32m    437\u001B[0m \u001B[38;5;28;01mif\u001B[39;00m backend \u001B[38;5;241m==\u001B[39m \u001B[38;5;124m\"\u001B[39m\u001B[38;5;124mmatplotlib\u001B[39m\u001B[38;5;124m\"\u001B[39m:\n\u001B[0;32m--> 438\u001B[0m     \u001B[38;5;28;01mreturn\u001B[39;00m \u001B[43m_plot_matplotlib\u001B[49m\u001B[43m(\u001B[49m\u001B[38;5;28;43mobject\u001B[39;49m\u001B[43m,\u001B[49m\u001B[43m \u001B[49m\u001B[43mmesh\u001B[49m\u001B[43m,\u001B[49m\u001B[43m \u001B[49m\u001B[43mkwargs\u001B[49m\u001B[43m)\u001B[49m\n\u001B[1;32m    439\u001B[0m \u001B[38;5;28;01melif\u001B[39;00m backend \u001B[38;5;241m==\u001B[39m \u001B[38;5;124m\"\u001B[39m\u001B[38;5;124mx3dom\u001B[39m\u001B[38;5;124m\"\u001B[39m:\n\u001B[1;32m    440\u001B[0m     \u001B[38;5;28;01mreturn\u001B[39;00m _plot_x3dom(\u001B[38;5;28mobject\u001B[39m, kwargs)\n",
      "File \u001B[0;32m~/miniconda3/lib/python3.10/site-packages/dolfin/common/plotting.py:279\u001B[0m, in \u001B[0;36m_plot_matplotlib\u001B[0;34m(obj, mesh, kwargs)\u001B[0m\n\u001B[1;32m    277\u001B[0m     \u001B[38;5;28;01mfrom\u001B[39;00m \u001B[38;5;21;01mmpl_toolkits\u001B[39;00m\u001B[38;5;21;01m.\u001B[39;00m\u001B[38;5;21;01mmplot3d\u001B[39;00m \u001B[38;5;28;01mimport\u001B[39;00m axes3d  \u001B[38;5;66;03m# noqa\u001B[39;00m\n\u001B[1;32m    278\u001B[0m     \u001B[38;5;66;03m# Enabling the 3d toolbox requires some additional arguments\u001B[39;00m\n\u001B[0;32m--> 279\u001B[0m     ax \u001B[38;5;241m=\u001B[39m \u001B[43mplt\u001B[49m\u001B[38;5;241;43m.\u001B[39;49m\u001B[43mgca\u001B[49m\u001B[43m(\u001B[49m\u001B[43mprojection\u001B[49m\u001B[38;5;241;43m=\u001B[39;49m\u001B[38;5;124;43m'\u001B[39;49m\u001B[38;5;124;43m3d\u001B[39;49m\u001B[38;5;124;43m'\u001B[39;49m\u001B[43m)\u001B[49m\n\u001B[1;32m    280\u001B[0m \u001B[38;5;28;01melse\u001B[39;00m:\n\u001B[1;32m    281\u001B[0m     ax \u001B[38;5;241m=\u001B[39m plt\u001B[38;5;241m.\u001B[39mgca()\n",
      "\u001B[0;31mTypeError\u001B[0m: gca() got an unexpected keyword argument 'projection'"
     ]
    }
   ],
   "source": [
    "from matplotlib import cm\n",
    "fig = plot(tem,mesh)\n",
    "fig.set_cmap(cm.rainbow)\n",
    "plt.colorbar(fig)\n",
    "plt.show()"
   ],
   "metadata": {
    "collapsed": false
   }
  },
  {
   "cell_type": "code",
   "execution_count": 95,
   "outputs": [
    {
     "ename": "TypeError",
     "evalue": "gca() got an unexpected keyword argument 'projection'",
     "output_type": "error",
     "traceback": [
      "\u001B[0;31m---------------------------------------------------------------------------\u001B[0m",
      "\u001B[0;31mTypeError\u001B[0m                                 Traceback (most recent call last)",
      "Cell \u001B[0;32mIn[95], line 2\u001B[0m\n\u001B[1;32m      1\u001B[0m \u001B[38;5;28;01mfrom\u001B[39;00m \u001B[38;5;21;01mmatplotlib\u001B[39;00m \u001B[38;5;28;01mimport\u001B[39;00m cm\n\u001B[0;32m----> 2\u001B[0m fig \u001B[38;5;241m=\u001B[39m \u001B[43mplot\u001B[49m\u001B[43m(\u001B[49m\u001B[43mtem_n\u001B[49m\u001B[43m,\u001B[49m\u001B[43mmesh\u001B[49m\u001B[43m)\u001B[49m\n\u001B[1;32m      3\u001B[0m fig\u001B[38;5;241m.\u001B[39mset_cmap(cm\u001B[38;5;241m.\u001B[39mrainbow)\n\u001B[1;32m      5\u001B[0m \u001B[38;5;66;03m# gr = fig.axes.pcolor(tem.vector())\u001B[39;00m\n",
      "File \u001B[0;32m~/miniconda3/lib/python3.10/site-packages/dolfin/common/plotting.py:438\u001B[0m, in \u001B[0;36mplot\u001B[0;34m(object, *args, **kwargs)\u001B[0m\n\u001B[1;32m    436\u001B[0m \u001B[38;5;66;03m# Plot\u001B[39;00m\n\u001B[1;32m    437\u001B[0m \u001B[38;5;28;01mif\u001B[39;00m backend \u001B[38;5;241m==\u001B[39m \u001B[38;5;124m\"\u001B[39m\u001B[38;5;124mmatplotlib\u001B[39m\u001B[38;5;124m\"\u001B[39m:\n\u001B[0;32m--> 438\u001B[0m     \u001B[38;5;28;01mreturn\u001B[39;00m \u001B[43m_plot_matplotlib\u001B[49m\u001B[43m(\u001B[49m\u001B[38;5;28;43mobject\u001B[39;49m\u001B[43m,\u001B[49m\u001B[43m \u001B[49m\u001B[43mmesh\u001B[49m\u001B[43m,\u001B[49m\u001B[43m \u001B[49m\u001B[43mkwargs\u001B[49m\u001B[43m)\u001B[49m\n\u001B[1;32m    439\u001B[0m \u001B[38;5;28;01melif\u001B[39;00m backend \u001B[38;5;241m==\u001B[39m \u001B[38;5;124m\"\u001B[39m\u001B[38;5;124mx3dom\u001B[39m\u001B[38;5;124m\"\u001B[39m:\n\u001B[1;32m    440\u001B[0m     \u001B[38;5;28;01mreturn\u001B[39;00m _plot_x3dom(\u001B[38;5;28mobject\u001B[39m, kwargs)\n",
      "File \u001B[0;32m~/miniconda3/lib/python3.10/site-packages/dolfin/common/plotting.py:279\u001B[0m, in \u001B[0;36m_plot_matplotlib\u001B[0;34m(obj, mesh, kwargs)\u001B[0m\n\u001B[1;32m    277\u001B[0m     \u001B[38;5;28;01mfrom\u001B[39;00m \u001B[38;5;21;01mmpl_toolkits\u001B[39;00m\u001B[38;5;21;01m.\u001B[39;00m\u001B[38;5;21;01mmplot3d\u001B[39;00m \u001B[38;5;28;01mimport\u001B[39;00m axes3d  \u001B[38;5;66;03m# noqa\u001B[39;00m\n\u001B[1;32m    278\u001B[0m     \u001B[38;5;66;03m# Enabling the 3d toolbox requires some additional arguments\u001B[39;00m\n\u001B[0;32m--> 279\u001B[0m     ax \u001B[38;5;241m=\u001B[39m \u001B[43mplt\u001B[49m\u001B[38;5;241;43m.\u001B[39;49m\u001B[43mgca\u001B[49m\u001B[43m(\u001B[49m\u001B[43mprojection\u001B[49m\u001B[38;5;241;43m=\u001B[39;49m\u001B[38;5;124;43m'\u001B[39;49m\u001B[38;5;124;43m3d\u001B[39;49m\u001B[38;5;124;43m'\u001B[39;49m\u001B[43m)\u001B[49m\n\u001B[1;32m    280\u001B[0m \u001B[38;5;28;01melse\u001B[39;00m:\n\u001B[1;32m    281\u001B[0m     ax \u001B[38;5;241m=\u001B[39m plt\u001B[38;5;241m.\u001B[39mgca()\n",
      "\u001B[0;31mTypeError\u001B[0m: gca() got an unexpected keyword argument 'projection'"
     ]
    }
   ],
   "source": [
    "from matplotlib import cm\n",
    "fig = plot(tem_n,mesh)\n",
    "fig.set_cmap(cm.rainbow)\n",
    "\n",
    "# gr = fig.axes.pcolor(tem.vector())\n",
    "plt.colorbar(fig)\n",
    "plt.show()\n",
    "fig = plot(u,mesh)\n",
    "plt.xlabel('X')\n",
    "plt.ylabel('Y')\n",
    "plt.xlim(-.002,0.022)\n",
    "plt.ylim(-0.002,0.014)\n",
    "plt.colorbar(fig)\n",
    "if save:\n",
    "    plt.savefig(f'{line}u_vec.png')\n",
    "plt.show()"
   ],
   "metadata": {
    "collapsed": false
   }
  },
  {
   "cell_type": "code",
   "execution_count": null,
   "outputs": [],
   "source": [],
   "metadata": {
    "collapsed": false
   }
  }
 ],
 "metadata": {
  "kernelspec": {
   "display_name": "Python 3",
   "language": "python",
   "name": "python3"
  },
  "language_info": {
   "codemirror_mode": {
    "name": "ipython",
    "version": 2
   },
   "file_extension": ".py",
   "mimetype": "text/x-python",
   "name": "python",
   "nbconvert_exporter": "python",
   "pygments_lexer": "ipython2",
   "version": "2.7.6"
  }
 },
 "nbformat": 4,
 "nbformat_minor": 0
}

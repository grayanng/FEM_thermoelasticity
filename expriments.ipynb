{
 "cells": [
  {
   "cell_type": "code",
   "execution_count": 74,
   "metadata": {
    "collapsed": true
   },
   "outputs": [],
   "source": [
    "# from mshr\n",
    "\n",
    "from __future__ import print_function\n",
    "from fenics import BoxMesh, Point, DirichletBC, FacetNormal, RectangleMesh\n",
    "from fenics import FunctionSpace, VectorFunctionSpace\n",
    "from fenics import TrialFunction, TestFunction\n",
    "from fenics import Expression, Function, Constant\n",
    "from fenics import dot, inner, Identity, sym\n",
    "from fenics import grad, nabla_grad, tr\n",
    "from ufl import nabla_div\n",
    "from fenics import sqrt\n",
    "from fenics import project\n",
    "from fenics import dx, ds\n",
    "from fenics import dX, dS\n",
    "from fenics import solve, interpolate\n",
    "from fenics import plot\n",
    "from fenics import File\n",
    "from fenics import lhs, rhs, assemble\n",
    "from fenics import Mesh\n",
    "from dolfin import near, SubDomain\n",
    "# from dolfin import *\n"
   ]
  },
  {
   "cell_type": "code",
   "execution_count": 63,
   "outputs": [],
   "source": [
    "import matplotlib.pyplot as plt\n",
    "%matplotlib inline"
   ],
   "metadata": {
    "collapsed": false
   }
  },
  {
   "cell_type": "code",
   "execution_count": 64,
   "outputs": [],
   "source": [
    "line = './results/v3/'"
   ],
   "metadata": {
    "collapsed": false
   }
  },
  {
   "cell_type": "code",
   "execution_count": 67,
   "outputs": [
    {
     "name": "stdout",
     "output_type": "stream",
     "text": [
      "Domain size: 0.02 [m] x 0.012 [m] y 0.02 [m] z\n"
     ]
    }
   ],
   "source": [
    "# Material settings\n",
    "rho = 7800  # [kg/m3] density\n",
    "k = 50  # [W/(m*K)] thermal conductivity\n",
    "Cp = 525  # [J/(kg*K)] heat capacity\n",
    "E = 2.0e011  # [Pa] Young modulus\n",
    "nu = 0.3  # Poisson coefficient\n",
    "lambda_ = (nu * E) / ((1 + nu) * (1 - 2 * nu))  # Lamé's first parameter\n",
    "mu = E / (2 * (1 + nu))  # Lamé's second parameter\n",
    "alpha = 2.0e-05  # [1/K] thermal expansion coefficient\n",
    "\n",
    "# Domain settings\n",
    "dW = 0.02  # [m] domain width (x, z)\n",
    "dH = 0.012  # [m] domain height\n",
    "dD = dW  # [m] domain depth\n",
    "resW = 20  # mesh resolution (x, z)-directions (number of points)\n",
    "resH = 4  # mesh y-resolution\n",
    "resD = resW\n",
    "\n",
    "print('Domain size:', dW, '[m] x', dH, '[m] y', dD, '[m] z')\n",
    "\n",
    "# Finite element order\n",
    "eo = 1"
   ],
   "metadata": {
    "collapsed": false
   }
  },
  {
   "cell_type": "code",
   "execution_count": 68,
   "outputs": [],
   "source": [
    "text = f\"dw(х) = {dW}\\n\" \\\n",
    "       f\"dh(у) = {dH}\\n\" \\\n",
    "       f\"W (Сетка по х) = {resW}\\n\" \\\n",
    "       f\"H (Сетка по у) = {resH}\\n\"\n",
    "\n",
    "print(text,file=open(f\"{line}par.txt\",'w'))"
   ],
   "metadata": {
    "collapsed": false
   }
  },
  {
   "cell_type": "code",
   "execution_count": 76,
   "outputs": [],
   "source": [
    "# mesh = Mesh('./mesh/CURRENT/composite_simplified.xml')\n",
    "# mesh = Mesh('./mesh/composite.xml')\n",
    "mesh = RectangleMesh(Point(0.0, 0.0), Point(dW, dH), resW, resH)\n"
   ],
   "metadata": {
    "collapsed": false
   }
  },
  {
   "cell_type": "code",
   "execution_count": 77,
   "outputs": [
    {
     "data": {
      "text/plain": "<Figure size 640x480 with 1 Axes>",
      "image/png": "[encoded data removed]"
     },
     "metadata": {},
     "output_type": "display_data"
    }
   ],
   "source": [
    "plot(mesh)\n",
    "plt.xlabel('X')\n",
    "plt.ylabel('Y')\n",
    "plt.savefig(f'{line}mesh_mshr.png')\n",
    "plt.savefig(f'{line}mesh_mshr.svg')"
   ],
   "metadata": {
    "collapsed": false
   }
  },
  {
   "cell_type": "code",
   "execution_count": 38,
   "outputs": [
    {
     "data": {
      "text/plain": "triangle"
     },
     "execution_count": 38,
     "metadata": {},
     "output_type": "execute_result"
    }
   ],
   "source": [
    "mesh.ufl_cell()"
   ],
   "metadata": {
    "collapsed": false
   }
  },
  {
   "cell_type": "code",
   "execution_count": 39,
   "outputs": [
    {
     "data": {
      "text/plain": "VectorElement(FiniteElement('Lagrange', triangle, 1), dim=2)"
     },
     "execution_count": 39,
     "metadata": {},
     "output_type": "execute_result"
    }
   ],
   "source": [
    "mesh.ufl_coordinate_element()"
   ],
   "metadata": {
    "collapsed": false
   }
  },
  {
   "cell_type": "code",
   "execution_count": 40,
   "outputs": [],
   "source": [
    "# Create functional space\n",
    "F = FunctionSpace(mesh, 'P', eo)  # piecewise linear polynomials\n",
    "V = VectorFunctionSpace(mesh, 'P', eo)\n",
    "\n",
    "# Create 'trial function' (the unknown function to be approximated) over the space F\n",
    "tem = TrialFunction(F)  # scalar temperature field, such that: tem(x,y) = Sum(tem_i* w(x,y))\n",
    "d1 = tem.geometric_dimension()  # space dimension\n",
    "u = TrialFunction(V)  # vector displacement field\n",
    "d2 = u.geometric_dimension()  # space dimension\n"
   ],
   "metadata": {
    "collapsed": false
   }
  },
  {
   "cell_type": "code",
   "execution_count": 41,
   "outputs": [],
   "source": [
    "# Create scalar 'test function' (or 'shape function', or 'weighting function') over the space F\n",
    "q = TestFunction(F)  # q -> tem\n",
    "v = TestFunction(V)  # v -> u\n",
    "\n",
    "t = 0\n",
    "# Define expressions used in variational forms to prevent repeated code generation\n",
    "n = FacetNormal(mesh)  # per-face normal vector\n",
    "k_ = Constant(k / (rho * Cp))  # thermal conductivity\n",
    "Traction = Constant((0, 0))  # traction\n",
    "\n",
    "t_range = 2  # [s]"
   ],
   "metadata": {
    "collapsed": false
   }
  },
  {
   "cell_type": "code",
   "execution_count": 41,
   "outputs": [],
   "source": [],
   "metadata": {
    "collapsed": false
   }
  },
  {
   "cell_type": "code",
   "execution_count": 42,
   "outputs": [],
   "source": [
    "# tem_surf = '(300 + ' \\\n",
    "#           '500 * exp(-pow( (t-5)/dt, 2)) * ' \\\n",
    "#          '( (( pow((x[0] - dW/2)/r, 2) + pow((x[2] - dD/2)/r, 2) ) <= 1.0) ? 1.0 : 0.0))'\n",
    "tem_surf = '(150 * (x[1] == dH))'\n",
    "# tem_surf = '(40)'\n",
    "tem_desired = Expression(tem_surf, dH=dH, degree=eo)\n",
    "# fact_ = Constant(1.0e8)"
   ],
   "metadata": {
    "collapsed": false
   }
  },
  {
   "cell_type": "code",
   "execution_count": 43,
   "outputs": [],
   "source": [
    "# tem_desired = Expression('20 + 150 * near(x[1],dH)', degree=eo)\n",
    "# fact_ = Constant(1.0e19)"
   ],
   "metadata": {
    "collapsed": false
   }
  },
  {
   "cell_type": "code",
   "execution_count": 44,
   "outputs": [],
   "source": [
    "\n",
    "# Problem settings\n",
    "tem_0 = Constant(20.)  # [K] initial temperature\n",
    "tem_ref = tem_0  # [K] reference temperature\n"
   ],
   "metadata": {
    "collapsed": false
   }
  },
  {
   "cell_type": "code",
   "execution_count": 45,
   "outputs": [],
   "source": [
    "# Define strains and stress\n",
    "def epsilon(u):\n",
    "    return 0.5 * (nabla_grad(u) + nabla_grad(u).T)\n",
    "    # return sym(nabla_grad(u))\n",
    "\n",
    "\n",
    "def epsilon_therm(tem):\n",
    "    return alpha * (tem - tem_ref) * Identity(d1)\n",
    "\n",
    "\n",
    "def sigma(u):\n",
    "    return lambda_ * nabla_div(u) * Identity(d2) + 2 * mu * epsilon(u) \\\n",
    "        - (3 * lambda_ + 2 * mu) * epsilon_therm(tem)\n",
    "\n",
    "\n",
    "# Compute boundary surfaces of the mesh (via C++ wrapper)\n",
    "\n",
    "tol = 1E-14\n",
    "\n",
    "\n",
    "# https://fenicsproject.org/olddocs/dolfin/1.3.0/python/demo/documented/subdomains-poisson/python/documentation.html\n",
    "class Bottom(SubDomain):\n",
    "    def inside(self, x, on_boundary):\n",
    "        return near(x[1], 0.0)\n",
    "\n",
    "\n",
    "class Top(SubDomain):\n",
    "    def inside(self, x, on_boundary):\n",
    "        return near(x[1], dH)\n"
   ],
   "metadata": {
    "collapsed": false
   }
  },
  {
   "cell_type": "code",
   "execution_count": 46,
   "outputs": [],
   "source": [
    "\n",
    "# bottom surfcae\n",
    "# bs_bottom_wall = 'near(x[1], 0.0)'\n",
    "# bs_bottom_wall = near(x[1],0.0)\n",
    "bs_bottom_wall = Bottom()\n",
    "# bs_top_wall = 'near(x[1],dH)'\n",
    "# bs_top_wall = near(x[1],dH)\n",
    "bs_top_wall = Top()\n",
    "\n",
    "# bs_top_edges = [Point(0.0, dH), Point(dW, dH)]\n",
    "\n",
    "\n",
    "# bs_top_edges = Point(0.0, dH)\n",
    "\n",
    "def left_top_fixed_point(x, on_boundary):\n",
    "    tol = 1E-15\n",
    "    return (near(x[0], 0.0) and near(x[1],dH))\n",
    "\n",
    "# def left_top_fixed_point(x, on_boundary):\n",
    "#     tol = 1E-15\n",
    "#     return Point(0.0, dH)\n",
    "\n",
    "\n",
    "def right_top_fixed_point(x, on_boundary):\n",
    "    tol = 1E-15\n",
    "    return (near(x[0], dW) and near(x[1],dH))\n",
    "\n",
    "\n",
    "# BC at the bottom\n",
    "bc_tem_bottom = DirichletBC(F, Constant(20), bs_bottom_wall)\n",
    "bc_tem_top = DirichletBC(F, Constant(150), bs_top_wall)\n",
    "# bcs_tem = [bc_tem_bottom]\n",
    "bcs_tem = [bc_tem_bottom, bc_tem_top]\n",
    "# bc_u_bottom = DirichletBC(V.sub(0), Constant((0,0)), bs_top_edges)\n",
    "#\n",
    "bc_top_fixed_point1 = DirichletBC(V.sub(0), Constant(0), right_top_fixed_point, method='pointwise')\n",
    "bc_top_fixed_point2 = DirichletBC(V.sub(1), Constant(0), right_top_fixed_point, method='pointwise')\n",
    "\n",
    "bc_lower_fixed_point1 = DirichletBC(V.sub(0), Constant(0), left_top_fixed_point, method='pointwise')\n",
    "bc_lower_fixed_point2 = DirichletBC(V.sub(1), Constant(0), left_top_fixed_point, method='pointwise')\n",
    "#\n",
    "bcs_u = [bc_lower_fixed_point1,bc_lower_fixed_point2, bc_top_fixed_point1,bc_top_fixed_point2]\n",
    "# bcs_u = [bc_u_bottom]"
   ],
   "metadata": {
    "collapsed": false
   }
  },
  {
   "cell_type": "code",
   "execution_count": 47,
   "outputs": [],
   "source": [
    "# Compose weak form of PDE(heat):\n",
    "tem_0 = Expression('20', degree=eo)\n",
    "tem_n = project(tem_0, F, solver_type=\"cg\", preconditioner_type=\"amg\")\n",
    "tem = TrialFunction(F)\n",
    "q = TestFunction(F)"
   ],
   "metadata": {
    "collapsed": false
   }
  },
  {
   "cell_type": "code",
   "execution_count": 48,
   "outputs": [
    {
     "data": {
      "text/plain": "FunctionSpace(Mesh(VectorElement(FiniteElement('Lagrange', triangle, 1), dim=2), 86), FiniteElement('Lagrange', triangle, 1))"
     },
     "execution_count": 48,
     "metadata": {},
     "output_type": "execute_result"
    }
   ],
   "source": [
    "V.sub(1)"
   ],
   "metadata": {
    "collapsed": false
   }
  },
  {
   "cell_type": "code",
   "execution_count": 49,
   "outputs": [
    {
     "data": {
      "text/plain": "FunctionSpace(Mesh(VectorElement(FiniteElement('Lagrange', triangle, 1), dim=2), 86), FiniteElement('Lagrange', triangle, 1))"
     },
     "execution_count": 49,
     "metadata": {},
     "output_type": "execute_result"
    }
   ],
   "source": [
    "\n",
    "V.sub(0)"
   ],
   "metadata": {
    "collapsed": false
   }
  },
  {
   "cell_type": "code",
   "execution_count": 50,
   "outputs": [],
   "source": [
    "fact_ = Constant(0.1)\n",
    "eq_tem = (k_ * inner(nabla_grad(tem), nabla_grad(q)) * dX - (tem_desired - tem) * fact_ * q * dX)\n",
    "a_therm = lhs(eq_tem)\n",
    "L_therm = rhs(eq_tem)\n"
   ],
   "metadata": {
    "collapsed": false
   }
  },
  {
   "cell_type": "code",
   "execution_count": 51,
   "outputs": [],
   "source": [
    "# Compose weak form of PDE(elasticity):\n",
    "# Split the equation into right-hand-side (RHS) and left-hand-side (LHS) parts:\n",
    "u = TrialFunction(V)\n",
    "v = TestFunction(V)\n",
    "sigma_ = lambda_ * nabla_div(u) * Identity(d2) + mu * (nabla_grad(u) + nabla_grad(u).T) \\\n",
    "         - (3 * lambda_ + 2 * mu) * alpha * (tem_n - tem_ref) * Identity(d1)\n",
    "epsilon_ = 0.5 * (nabla_grad(v) + nabla_grad(v).T)\n",
    "elastic_eqn = inner(sigma_, epsilon_) * dX - dot(Traction, v) * ds\n",
    "# LHS, bilinear form\n",
    "a_elas = lhs(elastic_eqn)\n",
    "# RHS, Linear form\n",
    "L_elas = rhs(elastic_eqn)\n"
   ],
   "metadata": {
    "collapsed": false
   }
  },
  {
   "cell_type": "code",
   "execution_count": 52,
   "outputs": [],
   "source": [
    "# Prepare export to file\n",
    "path = line\n",
    "tem_file = File(f'{path}tem.pvd')\n",
    "u_file = File(f'{path}u.pvd')\n",
    "vms_file = File(f'{path}vms.pvd')\n"
   ],
   "metadata": {
    "collapsed": false
   }
  },
  {
   "cell_type": "code",
   "execution_count": 53,
   "outputs": [
    {
     "name": "stdout",
     "output_type": "stream",
     "text": [
      "DOFs = 15126\n"
     ]
    }
   ],
   "source": [
    "# Time loop\n",
    "tem = Function(F)\n",
    "u = Function(V)\n",
    "\n",
    "print(f'DOFs = {V.dim() + F.dim()}')\n"
   ],
   "metadata": {
    "collapsed": false
   }
  },
  {
   "cell_type": "code",
   "execution_count": 54,
   "outputs": [
    {
     "name": "stdout",
     "output_type": "stream",
     "text": [
      "Solving linear variational problem.\n",
      "Solving linear variational problem.\n"
     ]
    }
   ],
   "source": [
    "# Update time value in expression\n",
    "# tem_desired.t = t\n",
    "\n",
    "sol_settings = {'linear_solver': 'mumps'}\n",
    "\n",
    "# Compute HCE\n",
    "solve(a_therm == L_therm, tem, bcs_tem, solver_parameters=sol_settings)\n",
    "\n",
    "# Update previous solution\n",
    "tem_n.assign(tem)\n",
    "\n",
    "# Compute elasticity\n",
    "solve(a_elas == L_elas, u, bcs_u, solver_parameters=sol_settings)\n"
   ],
   "metadata": {
    "collapsed": false
   }
  },
  {
   "cell_type": "code",
   "execution_count": 55,
   "outputs": [],
   "source": [
    "# Compute stress\n",
    "s = sigma(u) - (1. / 3) * tr(sigma(u)) * Identity(d2)  # deviatoric stress\n",
    "von_Mises = sqrt(3. / 2 * inner(s, s))\n",
    "von_Mises = project(von_Mises, F)\n"
   ],
   "metadata": {
    "collapsed": false
   }
  },
  {
   "cell_type": "code",
   "execution_count": 56,
   "outputs": [
    {
     "name": "stdout",
     "output_type": "stream",
     "text": [
      "0\n"
     ]
    }
   ],
   "source": [
    "# Save solution\n",
    "tem.rename('T [K]', 'label')\n",
    "tem_file << (tem, t)\n",
    "u.rename('U [m]', 'label')\n",
    "u_file << (u, t)\n",
    "von_Mises.rename('VMS [Pa]', 'label')\n",
    "vms_file << (von_Mises, t)\n",
    "\n",
    "print(f'{t}')\n",
    "# print(f'{t} / {dt*num_steps}')\n"
   ],
   "metadata": {
    "collapsed": false
   }
  },
  {
   "cell_type": "code",
   "execution_count": 57,
   "outputs": [
    {
     "name": "stdout",
     "output_type": "stream",
     "text": [
      "0\n"
     ]
    }
   ],
   "source": [
    "print(t)"
   ],
   "metadata": {
    "collapsed": false
   }
  },
  {
   "cell_type": "code",
   "execution_count": 58,
   "outputs": [
    {
     "data": {
      "text/plain": "<matplotlib.tri._tricontour.TriContourSet at 0x7f1506f5a410>"
     },
     "execution_count": 58,
     "metadata": {},
     "output_type": "execute_result"
    },
    {
     "data": {
      "text/plain": "<Figure size 640x480 with 1 Axes>",
      "image/png": "[encoded data removed]"
     },
     "metadata": {},
     "output_type": "display_data"
    }
   ],
   "source": [
    "plot(tem_n,mesh)\n"
   ],
   "metadata": {
    "collapsed": false
   }
  },
  {
   "cell_type": "code",
   "execution_count": 59,
   "outputs": [
    {
     "data": {
      "text/plain": "<matplotlib.tri._tricontour.TriContourSet at 0x7f1506a1c410>"
     },
     "execution_count": 59,
     "metadata": {},
     "output_type": "execute_result"
    },
    {
     "data": {
      "text/plain": "<Figure size 640x480 with 1 Axes>",
      "image/png": "[encoded data removed]"
     },
     "metadata": {},
     "output_type": "display_data"
    }
   ],
   "source": [
    "plot(tem,mesh)"
   ],
   "metadata": {
    "collapsed": false
   }
  },
  {
   "cell_type": "code",
   "execution_count": null,
   "outputs": [],
   "source": [
    "plot(u,mesh)\n",
    "plt.xlabel('X')\n",
    "plt.ylabel('Y')\n",
    "plt.savefig(f'{line}u_vec.svg')"
   ],
   "metadata": {
    "collapsed": false,
    "pycharm": {
     "is_executing": true
    }
   }
  },
  {
   "cell_type": "code",
   "execution_count": null,
   "outputs": [],
   "source": [],
   "metadata": {
    "collapsed": false,
    "pycharm": {
     "is_executing": true
    }
   }
  }
 ],
 "metadata": {
  "kernelspec": {
   "display_name": "Python 3",
   "language": "python",
   "name": "python3"
  },
  "language_info": {
   "codemirror_mode": {
    "name": "ipython",
    "version": 2
   },
   "file_extension": ".py",
   "mimetype": "text/x-python",
   "name": "python",
   "nbconvert_exporter": "python",
   "pygments_lexer": "ipython2",
   "version": "2.7.6"
  }
 },
 "nbformat": 4,
 "nbformat_minor": 0
}

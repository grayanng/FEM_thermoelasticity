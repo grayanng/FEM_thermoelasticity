{
 "cells": [
  {
   "cell_type": "code",
   "execution_count": 58,
   "metadata": {
    "collapsed": true
   },
   "outputs": [],
   "source": [
    "# from mshr\n",
    "\n",
    "from __future__ import print_function\n",
    "from fenics import BoxMesh, Point, DirichletBC, FacetNormal, RectangleMesh\n",
    "from fenics import FunctionSpace, VectorFunctionSpace\n",
    "from fenics import TrialFunction, TestFunction\n",
    "from fenics import Expression, Function, Constant\n",
    "from fenics import dot, inner, Identity, sym\n",
    "from fenics import grad, nabla_grad, tr\n",
    "from ufl import nabla_div\n",
    "from fenics import sqrt\n",
    "from fenics import project\n",
    "from fenics import dx, ds\n",
    "from fenics import dX, dS\n",
    "from fenics import solve, interpolate\n",
    "from fenics import plot\n",
    "from fenics import File\n",
    "from fenics import lhs, rhs, assemble\n",
    "from fenics import Mesh, UnitSquareMesh\n",
    "from dolfin import near, SubDomain\n",
    "from fenics import MeshFunction\n",
    "# from dolfin import MeshFunction\n",
    "from dolfin import info\n",
    "# import dolfin\n"
   ]
  },
  {
   "cell_type": "code",
   "execution_count": 58,
   "outputs": [],
   "source": [],
   "metadata": {
    "collapsed": false
   }
  },
  {
   "cell_type": "code",
   "execution_count": 59,
   "outputs": [],
   "source": [
    "import matplotlib.pyplot as plt\n",
    "%matplotlib inline"
   ],
   "metadata": {
    "collapsed": false
   }
  },
  {
   "cell_type": "code",
   "execution_count": 60,
   "outputs": [],
   "source": [
    "line = './results/v0/'\n"
   ],
   "metadata": {
    "collapsed": false
   }
  },
  {
   "cell_type": "code",
   "execution_count": 61,
   "outputs": [],
   "source": [
    "save = 1\n"
   ],
   "metadata": {
    "collapsed": false
   }
  },
  {
   "cell_type": "code",
   "execution_count": 62,
   "outputs": [],
   "source": [
    "mu1 = Constant(0.8e11)\n",
    "mu2 = Constant(0.5e11)\n",
    "lambda1 = Constant(1.25e11)\n",
    "lambda2 = Constant(0.65e11)\n",
    "k1 = Constant(200.)\n",
    "k2 = Constant(100.)\n",
    "beta1 = Constant(6.0e-6)\n",
    "beta2 = Constant(3.0e-6)\n",
    "alphaAir = Constant(50.)\n",
    "TAir = Constant(300.)\n",
    "THot = Constant(450.)\n",
    "T0 = Constant(320.)\n",
    "\n",
    "# TAir = Constant(20.)\n",
    "# THot = Constant(150.)\n",
    "# T0 = Constant(40.)\n",
    "\n",
    "# Finite element order\n",
    "eo = 1\n",
    "\n",
    "polynom = 'CG'"
   ],
   "metadata": {
    "collapsed": false
   }
  },
  {
   "cell_type": "code",
   "execution_count": 63,
   "outputs": [],
   "source": [
    "THot.values()"
   ],
   "metadata": {
    "collapsed": false
   }
  },
  {
   "cell_type": "code",
   "execution_count": 64,
   "outputs": [],
   "source": [
    "# Material settings\n",
    "rho = 7800  # [kg/m3] density\n",
    "# k = 50  # [W/(m*K)] thermal conductivity\n",
    "Cp = 525  # [J/(kg*K)] heat capacity\n",
    "E = 2.0e011  # [Pa] Young modulus\n",
    "nu = 0.3  # Poisson coefficient\n",
    "lambda_ = (nu * E) / ((1 + nu) * (1 - 2 * nu))  # Lamé's first parameter\n",
    "mu = E / (2 * (1 + nu))  # Lamé's second parameter\n",
    "# alpha = 2.0e-05  # [1/K] thermal expansion coefficient\n",
    "\n",
    "\n",
    "\n",
    "#coefficient of slope\n",
    "c1 = 100_000\n",
    "# coordinate \"y\", where is characteristics change\n",
    "c2 = 0.002\n",
    "# \"stairs\" function\n",
    "# phi_ = '1/(1+exp(-c1 * (x[1] - c2)))'\n",
    "# phi =  Expression(phi_,  c1 = c1, c2 = c2, degree=eo)\n",
    "\n",
    "# 1 - bottom thin layer\n",
    "# 2 - top layer\n",
    "\n",
    "lambda1 = 1.25e11\n",
    "lambda2 = 0.65e11\n",
    "# lambda_ = lambda2 * phi + lambda1 * (1-phi)\n",
    "lambda_ = Expression(\"x[1] > 0.002 ? lambda1 : lambda2\", lambda1= lambda1, lambda2 = lambda2, degree=eo)\n",
    "# cc = Expression(\"x[0] > 0.5 and x[1] > 0.5 ? c : 1\", c = c, degree=p+2)\n",
    "\n",
    "\n",
    "mu1 = 0.8e11\n",
    "mu2 =0.5e11\n",
    "# mu = mu2 * phi + mu1 * (1-phi)\n",
    "mu = Expression(\"x[1] > 0.002 ? mu1 : mu2\", mu1= mu1, mu2 = mu2, degree=eo)\n",
    "\n",
    "\n",
    "beta1 = 6.0e-06\n",
    "beta2 = 3.0e-06\n",
    "# alpha = beta2 * phi + beta1 * (1-phi)\n",
    "alpha = Expression(\"x[1] > 0.002 ? beta1 : beta2\", beta1= beta1, beta2 = beta2, degree=eo)\n",
    "\n",
    "\n",
    "k1 = 200  # [W/(m*K)] thermal conductivity on bottom layer\n",
    "k2 = 100  # [W/(m*K)] thermal conductivity on top layer\n",
    "# k = k2 * phi + k1 * (1-phi)\n",
    "k = Expression(\"x[1] > 0.002 ? k1 : k2\", k1= k1, k2 = k2, degree=eo)\n",
    "\n",
    "\n",
    "# Domain settings\n",
    "dW = 0.02  # [m] domain width (x, z)\n",
    "dH = 0.012  # [m] domain height\n",
    "dD = 0.01  # [m] domain depth\n",
    "resW = 50  # mesh resolution (x, z)-directions (number of points)\n",
    "resH = 50  # mesh y-resolution\n",
    "resD = resW\n",
    "\n",
    "print('Domain size:', dW, '[m] x', dH, '[m] y', dD, '[m] z')\n",
    "\n",
    "# Finite element order\n",
    "# eo = 1"
   ],
   "metadata": {
    "collapsed": false
   }
  },
  {
   "cell_type": "code",
   "execution_count": 65,
   "outputs": [],
   "source": [
    "text = str(fr\"polynom = {polynom}  eo = {eo} THOt = {THot.values()}\")\n",
    "if save:\n",
    "    print(text.encode('utf-8'),file=open(f\"{line}par.txt\",'w'))"
   ],
   "metadata": {
    "collapsed": false
   }
  },
  {
   "cell_type": "code",
   "execution_count": 66,
   "outputs": [],
   "source": [
    "# mesh = Mesh('./mesh/v0/CURRENT/composite_simplified.xml')\n",
    "mesh = Mesh('./composite_fenics/composite.xml')\n",
    "# mesh = Mesh('./mesh/classic_meshing/v1/composite_fenics/composite.xml')\n",
    "# mesh = Mesh('./mesh/composite.xml')\n",
    "# mesh = UnitSquareMesh(32,32,dW,dH, 'left/right')\n",
    "# mesh = RectangleMesh(Point(0.0, 0.0), Point(dW, dH), resW, resH,'left/right')\n",
    "# mesh = RectangleMesh(Point(0.0, 0.0), Point(dW, dH), resW, resH,'left/right')\n"
   ],
   "metadata": {
    "collapsed": false
   }
  },
  {
   "cell_type": "markdown",
   "source": [],
   "metadata": {
    "collapsed": false
   }
  },
  {
   "cell_type": "code",
   "execution_count": 70,
   "outputs": [],
   "source": [
    "plot(mesh)\n",
    "plt.xlabel('X')\n",
    "plt.ylabel('Y')\n",
    "plt.show()\n",
    "if save:\n",
    "    plt.savefig(f'{line}mesh_mshr.png')\n",
    "    plt.savefig(f'{line}mesh_mshr.svg')"
   ],
   "metadata": {
    "collapsed": false
   }
  },
  {
   "cell_type": "code",
   "execution_count": 71,
   "outputs": [],
   "source": [
    "# Create functional space\n",
    "F = FunctionSpace(mesh, polynom, eo)  # piecewise linear polynomials\n",
    "V = VectorFunctionSpace(mesh, polynom, eo)\n",
    "\n",
    "# Create 'trial function' (the unknown function to be approximated) over the space F\n",
    "tem = TrialFunction(F)  # scalar temperature field, such that: tem(x,y) = Sum(tem_i* w(x,y))\n",
    "d1 = tem.geometric_dimension()  # space dimension\n",
    "u = TrialFunction(V)  # vector displacement field\n",
    "d2 = u.geometric_dimension()  # space dimension\n"
   ],
   "metadata": {
    "collapsed": false
   }
  },
  {
   "cell_type": "code",
   "execution_count": 72,
   "outputs": [],
   "source": [
    "# Create scalar 'test function' (or 'shape function', or 'weighting function') over the space F\n",
    "q = TestFunction(F)  # q -> tem\n",
    "v = TestFunction(V)  # v -> u\n",
    "\n",
    "t = 0\n",
    "# Define expressions used in variational forms to prevent repeated code generation\n",
    "n = FacetNormal(mesh)  # per-face normal vector\n",
    "# k_ = (k / (rho * Cp))  # thermal conductivity\n",
    "k_ = k  # thermal conductivity\n",
    "Traction = Constant((0, 0))  # traction\n"
   ],
   "metadata": {
    "collapsed": false
   }
  },
  {
   "cell_type": "code",
   "execution_count": 13,
   "outputs": [],
   "source": [
    "# tem_surf = '(300 + ' \\\n",
    "#           '500 * exp(-pow( (t-5)/dt, 2)) * ' \\\n",
    "#          '( (( pow((x[0] - dW/2)/r, 2) + pow((x[2] - dD/2)/r, 2) ) <= 1.0) ? 1.0 : 0.0))'\n",
    "tem_surf = '(THot * (x[1] == dH))'\n",
    "# tem_surf = '(40)'\n",
    "tem_desired = Expression(tem_surf, dH=dH, THot = THot, degree=eo)\n",
    "# fact_ = Constant(1.0e8)"
   ],
   "metadata": {
    "collapsed": false
   }
  },
  {
   "cell_type": "code",
   "execution_count": 14,
   "outputs": [],
   "source": [
    "\n",
    "# Problem settings\n",
    "tem_0 = T0  # [K] initial temperature\n",
    "tem_ref = TAir  # [K] reference temperature\n"
   ],
   "metadata": {
    "collapsed": false
   }
  },
  {
   "cell_type": "code",
   "execution_count": 15,
   "outputs": [],
   "source": [
    "# Define strains and stress\n",
    "def epsilon(u):\n",
    "    return 0.5 * (nabla_grad(u) + nabla_grad(u).T)\n",
    "    # return sym(nabla_grad(u))\n",
    "\n",
    "\n",
    "def epsilon_therm(tem):\n",
    "    return alpha * (tem - tem_ref) * Identity(d1)\n",
    "\n",
    "\n",
    "def sigma(u):\n",
    "    return lambda_ * nabla_div(u) * Identity(d2) + 2 * mu * epsilon(u) \\\n",
    "        - (3 * lambda_ + 2 * mu) * epsilon_therm(tem)\n",
    "\n",
    "\n",
    "# Compute boundary surfaces of the mesh (via C++ wrapper)\n",
    "\n",
    "tol = 1E-14\n",
    "\n",
    "\n",
    "# https://fenicsproject.org/olddocs/dolfin/1.3.0/python/demo/documented/subdomains-poisson/python/documentation.html\n",
    "class Bottom(SubDomain):\n",
    "    def inside(self, x, on_boundary):\n",
    "        return near(x[1], 0.0)\n",
    "\n",
    "\n",
    "class Top(SubDomain):\n",
    "    def inside(self, x, on_boundary):\n",
    "        return near(x[1], dH)\n"
   ],
   "metadata": {
    "collapsed": false
   }
  },
  {
   "cell_type": "code",
   "execution_count": 15,
   "outputs": [],
   "source": [],
   "metadata": {
    "collapsed": false
   }
  },
  {
   "cell_type": "code",
   "execution_count": 16,
   "outputs": [],
   "source": [
    "\n",
    "# bottom surfcae\n",
    "# bs_bottom_wall = 'near(x[1], 0.0)'\n",
    "# bs_bottom_wall = near(x[1],0.0)\n",
    "bs_bottom_wall = Bottom()\n",
    "# bs_top_wall = 'near(x[1],dH)'\n",
    "# bs_top_wall = near(x[1],dH)\n",
    "bs_top_wall = Top()\n",
    "\n",
    "# bs_top_edges = [Point(0.0, dH), Point(dW, dH)]\n",
    "\n",
    "\n",
    "# bs_top_edges = Point(0.0, dH)\n",
    "\n",
    "def left_top_fixed_point(x, on_boundary):\n",
    "    tol = 1E-15\n",
    "    return (near(x[0], 0.0) and near(x[1],dH))\n",
    "\n",
    "# def left_top_fixed_point(x, on_boundary):\n",
    "#     tol = 1E-15\n",
    "#     return Point(0.0, dH)\n",
    "\n",
    "\n",
    "def right_top_fixed_point(x, on_boundary):\n",
    "    tol = 1E-15\n",
    "    return (near(x[0], dW) and near(x[1],dH))\n"
   ],
   "metadata": {
    "collapsed": false
   }
  },
  {
   "cell_type": "code",
   "execution_count": 17,
   "outputs": [],
   "source": [
    "\n",
    "# BC at the bottom\n",
    "bc_tem_bottom = DirichletBC(F, TAir, bs_bottom_wall)\n",
    "bc_tem_top = DirichletBC(F, THot, bs_top_wall)\n",
    "\n",
    "#\n",
    "\n",
    "# bcs_tem = [bc_tem_bottom]\n",
    "bcs_tem = [bc_tem_bottom, bc_tem_top]\n",
    "# bc_u_bottom = DirichletBC(V.sub(0), Constant((0,0)), bs_top_edges)\n",
    "#\n",
    "# bc_top_fixed_point1 = DirichletBC(V.sub(0), Constant(0), right_top_fixed_point, method='pointwise')\n",
    "rt_y_fixed_point = DirichletBC(V.sub(1), Constant(0), right_top_fixed_point, method='pointwise')\n",
    "\n",
    "lt_x_fixed_point = DirichletBC(V.sub(0), Constant(0), left_top_fixed_point, method='pointwise')\n",
    "lt_y_fixed_point = DirichletBC(V.sub(1), Constant(0), left_top_fixed_point, method='pointwise')\n",
    "#\n",
    "# bcs_u = [bc_lower_fixed_point1,bc_lower_fixed_point2, bc_top_fixed_point1,bc_top_fixed_point2]\n",
    "bcs_u = [lt_x_fixed_point, lt_y_fixed_point, rt_y_fixed_point]\n",
    "# bcs_u = [bc_u_bottom]"
   ],
   "metadata": {
    "collapsed": false
   }
  },
  {
   "cell_type": "code",
   "execution_count": 18,
   "outputs": [],
   "source": [
    "# Compose weak form of PDE(heat):\n",
    "tem_0 = Expression('T0', degree=eo, T0 = T0)\n",
    "tem_n = project(tem_0, F, solver_type=\"cg\", preconditioner_type=\"amg\")\n",
    "tem = TrialFunction(F)\n",
    "q = TestFunction(F)"
   ],
   "metadata": {
    "collapsed": false
   }
  },
  {
   "cell_type": "code",
   "execution_count": 19,
   "outputs": [
    {
     "data": {
      "text/plain": "Measure('interior_facet', subdomain_id='everywhere')"
     },
     "execution_count": 19,
     "metadata": {},
     "output_type": "execute_result"
    }
   ],
   "source": [
    "dS()"
   ],
   "metadata": {
    "collapsed": false
   }
  },
  {
   "cell_type": "code",
   "execution_count": 20,
   "outputs": [],
   "source": [
    "fact_ = Constant(0.01)\n",
    "# eq_tem = (k_ * inner(nabla_grad(tem), nabla_grad(q)) * dX + (tem_desired - tem) * fact_ * q * dX)\n",
    "# eq_tem = (k_ * inner(nabla_grad(tem), nabla_grad(q)) * dX + alphaAir * (tem - TAir) * q * dX)\n",
    "eq_tem = (k_ * inner(nabla_grad(tem), nabla_grad(q)) * dX )\n",
    "a_therm = lhs(eq_tem)\n",
    "L_therm = rhs(eq_tem)\n"
   ],
   "metadata": {
    "collapsed": false
   }
  },
  {
   "cell_type": "code",
   "execution_count": 20,
   "outputs": [],
   "source": [],
   "metadata": {
    "collapsed": false
   }
  },
  {
   "cell_type": "code",
   "execution_count": 21,
   "outputs": [],
   "source": [
    "# Compose weak form of PDE(elasticity):\n",
    "# Split the equation into right-hand-side (RHS) and left-hand-side (LHS) parts:\n",
    "u = TrialFunction(V)\n",
    "v = TestFunction(V)\n",
    "sigma_ = lambda_ * nabla_div(u) * Identity(d2) + mu * (nabla_grad(u) + nabla_grad(u).T) \\\n",
    "         - (3 * lambda_ + 2 * mu) * alpha * (tem_n - tem_ref) * Identity(d1)\n",
    "epsilon_ = 0.5 * (nabla_grad(v) + nabla_grad(v).T)\n",
    "elastic_eqn = inner(sigma_, epsilon_) * dX\n",
    "# LHS, bilinear form\n",
    "a_elas = lhs(elastic_eqn)\n",
    "# RHS, Linear form\n",
    "L_elas = rhs(elastic_eqn)\n"
   ],
   "metadata": {
    "collapsed": false
   }
  },
  {
   "cell_type": "code",
   "execution_count": 22,
   "outputs": [],
   "source": [
    "if save:\n",
    "    # Prepare export to file\n",
    "    path = line\n",
    "    tem_file = File(f'{path}tem.pvd')\n",
    "    u_file = File(f'{path}u.pvd')\n",
    "    vms_file = File(f'{path}vms.pvd')"
   ],
   "metadata": {
    "collapsed": false
   }
  },
  {
   "cell_type": "code",
   "execution_count": 23,
   "outputs": [
    {
     "name": "stdout",
     "output_type": "stream",
     "text": [
      "DOFs = 15126\n"
     ]
    }
   ],
   "source": [
    "# Time loop\n",
    "tem = Function(F)\n",
    "u = Function(V)\n",
    "\n",
    "print(f'DOFs = {V.dim() + F.dim()}')\n"
   ],
   "metadata": {
    "collapsed": false
   }
  },
  {
   "cell_type": "code",
   "execution_count": 24,
   "outputs": [
    {
     "name": "stdout",
     "output_type": "stream",
     "text": [
      "Calling FFC just-in-time (JIT) compiler, this may take some time.\n",
      "  Optimization not available for custom integrals, skipping optimization.\n",
      "  Ignoring precision in integral metadata compiled using quadrature representation. Not implemented.\n",
      "  Ignoring precision in integral metadata compiled using quadrature representation. Not implemented.\n"
     ]
    },
    {
     "name": "stderr",
     "output_type": "stream",
     "text": [
      "/home/ponomdi/miniconda3/lib/python3.10/site-packages/ffc/quadrature/quadraturerepresentation.py:58: QuadratureRepresentationDeprecationWarning: \n",
      "*** ===================================================== ***\n",
      "*** FFC: quadrature representation is deprecated! It will ***\n",
      "*** likely be removed in 2018.2.0 release. Use uflacs     ***\n",
      "*** representation instead.                               ***\n",
      "*** ===================================================== ***\n",
      "  issue_deprecation_warning()\n",
      "/home/ponomdi/miniconda3/lib/python3.10/site-packages/ffc/quadrature/quadraturerepresentation.py:58: QuadratureRepresentationDeprecationWarning: \n",
      "*** ===================================================== ***\n",
      "*** FFC: quadrature representation is deprecated! It will ***\n",
      "*** likely be removed in 2018.2.0 release. Use uflacs     ***\n",
      "*** representation instead.                               ***\n",
      "*** ===================================================== ***\n",
      "  issue_deprecation_warning()\n"
     ]
    },
    {
     "name": "stdout",
     "output_type": "stream",
     "text": [
      "Solving linear variational problem.\n",
      "Calling FFC just-in-time (JIT) compiler, this may take some time.\n",
      "  Optimization not available for custom integrals, skipping optimization.\n",
      "  Ignoring precision in integral metadata compiled using quadrature representation. Not implemented.\n",
      "  Ignoring precision in integral metadata compiled using quadrature representation. Not implemented.\n"
     ]
    },
    {
     "name": "stderr",
     "output_type": "stream",
     "text": [
      "/home/ponomdi/miniconda3/lib/python3.10/site-packages/ffc/quadrature/quadraturerepresentation.py:58: QuadratureRepresentationDeprecationWarning: \n",
      "*** ===================================================== ***\n",
      "*** FFC: quadrature representation is deprecated! It will ***\n",
      "*** likely be removed in 2018.2.0 release. Use uflacs     ***\n",
      "*** representation instead.                               ***\n",
      "*** ===================================================== ***\n",
      "  issue_deprecation_warning()\n",
      "/home/ponomdi/miniconda3/lib/python3.10/site-packages/ffc/quadrature/quadraturerepresentation.py:58: QuadratureRepresentationDeprecationWarning: \n",
      "*** ===================================================== ***\n",
      "*** FFC: quadrature representation is deprecated! It will ***\n",
      "*** likely be removed in 2018.2.0 release. Use uflacs     ***\n",
      "*** representation instead.                               ***\n",
      "*** ===================================================== ***\n",
      "  issue_deprecation_warning()\n"
     ]
    },
    {
     "name": "stdout",
     "output_type": "stream",
     "text": [
      "Calling FFC just-in-time (JIT) compiler, this may take some time.\n",
      "  Optimization not available for custom integrals, skipping optimization.\n",
      "  Ignoring precision in integral metadata compiled using quadrature representation. Not implemented.\n",
      "  Ignoring precision in integral metadata compiled using quadrature representation. Not implemented.\n"
     ]
    },
    {
     "name": "stderr",
     "output_type": "stream",
     "text": [
      "/home/ponomdi/miniconda3/lib/python3.10/site-packages/ffc/quadrature/quadraturerepresentation.py:58: QuadratureRepresentationDeprecationWarning: \n",
      "*** ===================================================== ***\n",
      "*** FFC: quadrature representation is deprecated! It will ***\n",
      "*** likely be removed in 2018.2.0 release. Use uflacs     ***\n",
      "*** representation instead.                               ***\n",
      "*** ===================================================== ***\n",
      "  issue_deprecation_warning()\n",
      "/home/ponomdi/miniconda3/lib/python3.10/site-packages/ffc/quadrature/quadraturerepresentation.py:58: QuadratureRepresentationDeprecationWarning: \n",
      "*** ===================================================== ***\n",
      "*** FFC: quadrature representation is deprecated! It will ***\n",
      "*** likely be removed in 2018.2.0 release. Use uflacs     ***\n",
      "*** representation instead.                               ***\n",
      "*** ===================================================== ***\n",
      "  issue_deprecation_warning()\n"
     ]
    },
    {
     "name": "stdout",
     "output_type": "stream",
     "text": [
      "Solving linear variational problem.\n"
     ]
    }
   ],
   "source": [
    "# Update time value in expression\n",
    "# tem_desired.t = t\n",
    "\n",
    "sol_settings = {'linear_solver': 'mumps'}\n",
    "\n",
    "# Compute HCE\n",
    "solve(a_therm == L_therm, tem, bcs_tem, solver_parameters=sol_settings)\n",
    "\n",
    "# Update previous solution\n",
    "tem_n.assign(tem)\n",
    "\n",
    "# Compute elasticity\n",
    "solve(a_elas == L_elas, u, bcs_u, solver_parameters=sol_settings)\n"
   ],
   "metadata": {
    "collapsed": false
   }
  },
  {
   "cell_type": "code",
   "execution_count": 25,
   "outputs": [
    {
     "name": "stdout",
     "output_type": "stream",
     "text": [
      "Calling FFC just-in-time (JIT) compiler, this may take some time.\n"
     ]
    }
   ],
   "source": [
    "# Compute stress\n",
    "s = sigma(u) - (1. / 3) * tr(sigma(u)) * Identity(d2)  # deviatoric stress\n",
    "von_Mises = sqrt(3. / 2 * inner(s, s))\n",
    "von_Mises = project(von_Mises, F)\n"
   ],
   "metadata": {
    "collapsed": false
   }
  },
  {
   "cell_type": "code",
   "execution_count": 26,
   "outputs": [
    {
     "name": "stdout",
     "output_type": "stream",
     "text": [
      "0\n"
     ]
    }
   ],
   "source": [
    "if save:\n",
    "    # Save solution\n",
    "    tem.rename('T [K]', 'label')\n",
    "    tem_file << (tem)\n",
    "    u.rename('U [m]', 'label')\n",
    "    u_file << (u)\n",
    "    von_Mises.rename('VMS [Pa]', 'label')\n",
    "    vms_file << (von_Mises)\n",
    "\n",
    "print(f'{t}')\n",
    "# print(f'{t} / {dt*num_steps}')\n"
   ],
   "metadata": {
    "collapsed": false
   }
  },
  {
   "cell_type": "code",
   "execution_count": 57,
   "outputs": [
    {
     "data": {
      "text/plain": "<Figure size 640x480 with 2 Axes>",
      "image/png": "[encoded data removed]"
     },
     "metadata": {},
     "output_type": "display_data"
    }
   ],
   "source": [
    "from matplotlib import cm\n",
    "fig = plot(tem,mesh)\n",
    "fig.set_cmap(cm.rainbow)\n",
    "plt.colorbar(fig)\n",
    "plt.show()"
   ],
   "metadata": {
    "collapsed": false
   }
  },
  {
   "cell_type": "code",
   "execution_count": null,
   "outputs": [
    {
     "data": {
      "text/plain": "<Figure size 640x480 with 2 Axes>",
      "image/png": "[encoded data removed]"
     },
     "metadata": {},
     "output_type": "display_data"
    }
   ],
   "source": [
    "from matplotlib import cm\n",
    "fig = plot(tem_n,mesh)\n",
    "fig.set_cmap(cm.rainbow)\n",
    "\n",
    "# gr = fig.axes.pcolor(tem.vector())\n",
    "plt.colorbar(fig)\n",
    "plt.show()\n",
    "fig = plot(u,mesh)\n",
    "plt.xlabel('X')\n",
    "plt.ylabel('Y')\n",
    "plt.xlim(-.002,0.022)\n",
    "plt.ylim(-0.002,0.014)\n",
    "plt.colorbar(fig)\n",
    "if save:\n",
    "    plt.savefig(f'{line}u_vec.png')\n",
    "plt.show()"
   ],
   "metadata": {
    "collapsed": false
   }
  },
  {
   "cell_type": "code",
   "execution_count": null,
   "outputs": [],
   "source": [],
   "metadata": {
    "collapsed": false
   }
  }
 ],
 "metadata": {
  "kernelspec": {
   "display_name": "Python 3",
   "language": "python",
   "name": "python3"
  },
  "language_info": {
   "codemirror_mode": {
    "name": "ipython",
    "version": 2
   },
   "file_extension": ".py",
   "mimetype": "text/x-python",
   "name": "python",
   "nbconvert_exporter": "python",
   "pygments_lexer": "ipython2",
   "version": "2.7.6"
  }
 },
 "nbformat": 4,
 "nbformat_minor": 0
}
